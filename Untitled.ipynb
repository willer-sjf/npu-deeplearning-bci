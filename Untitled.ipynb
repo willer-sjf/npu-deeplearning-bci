{
 "cells": [
  {
   "cell_type": "code",
   "execution_count": 1,
   "metadata": {},
   "outputs": [],
   "source": [
    "import numpy as np\n",
    "import pandas as pd\n",
    "import torch\n",
    "import torch.nn as nn\n",
    "import torch.optim as optim\n",
    "import utils\n",
    "import load_data\n",
    "import datetime\n",
    "import pywt\n",
    "import scipy.signal as signal\n",
    "import pyeeg"
   ]
  },
  {
   "cell_type": "code",
   "execution_count": 3,
   "metadata": {},
   "outputs": [
    {
     "name": "stdout",
     "output_type": "stream",
     "text": [
      "(51200, 8064)\n"
     ]
    }
   ],
   "source": [
    "PATH = '/home/willer/Desktop/Development/Python/dataset/data_preprocessed_python'\n",
    "pdata  = pd.read_csv(PATH + 'preprocessed_data_1d.csv')\n",
    "ndata = np.array(pdata)\n",
    "print(ndata.shape)\n",
    "ndata = ndata.reshape(40*32, 40, 8064)"
   ]
  },
  {
   "cell_type": "code",
   "execution_count": 5,
   "metadata": {},
   "outputs": [],
   "source": [
    "band = [4,8,12,16,25,45]\n",
    "window_size = 256 \n",
    "step_size = 64 \n",
    "sample_rate = 128\n",
    "\n",
    "new_data = np.zeros(shape=(40*32, 160, 123))\n",
    "for index in range(40*32):\n",
    "    data = ndata[index][:32]\n",
    "    fp_data = np.zeros(shape=(123, 160), dtype=float)\n",
    "    for t in range(123):\n",
    "        fp_data_t = np.zeros(160, dtype=float)\n",
    "        for i in range(32):\n",
    "            single = data[i][t:t + window_size]\n",
    "            fp, norm_fp = pyeeg.bin_power(single, band, sample_rate)\n",
    "            fp_data_t[i*5:(i+1)*5] = norm_fp\n",
    "        fp_data[t] = fp_data_t\n",
    "    fp_data = np.swapaxes(fp_data, 0, 1)\n",
    "    new_data[index] = fp_data"
   ]
  },
  {
   "cell_type": "code",
   "execution_count": 18,
   "metadata": {
    "scrolled": true
   },
   "outputs": [],
   "source": [
    "np.save('/home/willer/Desktop/Development/Python/dataset/data_preprocessed_python/' + 'fq_data.npy', new_data, allow_pickle=True, fix_imports=True)"
   ]
  },
  {
   "cell_type": "code",
   "execution_count": 6,
   "metadata": {},
   "outputs": [
    {
     "data": {
      "text/plain": [
       "(1280, 160, 123)"
      ]
     },
     "execution_count": 6,
     "metadata": {},
     "output_type": "execute_result"
    }
   ],
   "source": [
    "new_data.shape"
   ]
  },
  {
   "cell_type": "code",
   "execution_count": null,
   "metadata": {},
   "outputs": [],
   "source": []
  }
 ],
 "metadata": {
  "kernelspec": {
   "display_name": "Python 3",
   "language": "python",
   "name": "python3"
  },
  "language_info": {
   "codemirror_mode": {
    "name": "ipython",
    "version": 3
   },
   "file_extension": ".py",
   "mimetype": "text/x-python",
   "name": "python",
   "nbconvert_exporter": "python",
   "pygments_lexer": "ipython3",
   "version": "3.7.6"
  }
 },
 "nbformat": 4,
 "nbformat_minor": 4
}
